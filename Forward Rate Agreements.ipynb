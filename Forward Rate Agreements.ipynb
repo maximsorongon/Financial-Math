{
 "cells": [
  {
   "cell_type": "markdown",
   "metadata": {},
   "source": [
    "# MA 195L.2 Project 2: Forward Rate Agreements\n",
    "\n",
    "## Version 1: May 19, 2021\n",
    "\n",
    "### Instructor: Jakov Ivan S. Dumbrique (jdumbrique@ateneo.edu)\n",
    "\n",
    "MA 195L.2: Introduction to Financial Mathematics II \\\n",
    "Second Semester, S.Y. 2020-2021 \\\n",
    "Ateneo de Manila University"
   ]
  },
  {
   "cell_type": "markdown",
   "metadata": {},
   "source": [
    "Submitted by: Jakov Ivan S. Dumbrique\n",
    "\n"
   ]
  },
  {
   "cell_type": "markdown",
   "metadata": {},
   "source": [
    "# Part 1: Functional Implementation\n",
    "\n",
    "The specifications of the functions are specified in the succeeding code blocks. You may create helper functions you can call for reusing computations."
   ]
  },
  {
   "cell_type": "code",
   "execution_count": 1,
   "metadata": {},
   "outputs": [],
   "source": [
    "def linear_interp(t,x,y):\n",
    "    m = (y[1]-y[0])/(x[1]-x[0])\n",
    "    y = y[0] + m*(t-x[0])\n",
    "    return y"
   ]
  },
  {
   "cell_type": "code",
   "execution_count": 2,
   "metadata": {},
   "outputs": [],
   "source": [
    "def forward_rate(\n",
    "    t, T_1, T_2, r_1, r_2, m \n",
    "):\n",
    "    \"\"\"Returns the forward rate observed at time t (0<=t<T_1) applicable to the period [T_1, T_2] \n",
    "    (where T_1 < T_2 and their values are determined at time 0)\n",
    "    \n",
    "       This function assumes that the zero rates r_1 and r_2 and the forward rate \n",
    "       have the same compounding frequency. \n",
    "    \n",
    "    Parameters\n",
    "    ----------\n",
    "    t (in years)\n",
    "    T_1: start of forward period as observed at time t=0 (in years)\n",
    "    T_2: end of forward period as observed at time t=0 (in years)\n",
    "    r_1: zero rate observed at time t with tenor T_1-t years\n",
    "    r_2: zero rate observed at time t with tenor T_2-t years\n",
    "    m: compounding frequency of r_1, r_2 and the forward rate \n",
    "        assumes value in this list: ['simple', 'exp', 1, 2, 4, 12, 52, 365]\n",
    "    \n",
    "    Returns\n",
    "    -------\n",
    "    float (4 decimal places)\n",
    "        forward rate observed at time t (0<=t<T_1) applicable to the period [T_1, T_2]\n",
    "    \"\"\"\n",
    "    \n",
    "    if m == \"simple\":\n",
    "        return ((1 + r_2 * T_2 ) / (1 + r_1 * T_1) - 1) / (T_2 - T_1)\n",
    "    elif m == \"exp\":\n",
    "        return (r_2 * T_2  - r_1 * T_1) / (T_2 - T_1)\n",
    "    else:\n",
    "        return (((1 + r_2/m) ** (m * T_2) * (1 + r_1/m) ** (-m * T_1)) ** (1/(m*(T_2-T_1))) - 1 ) * m"
   ]
  },
  {
   "cell_type": "code",
   "execution_count": 3,
   "metadata": {},
   "outputs": [],
   "source": [
    "import numpy as np\n",
    "\n",
    "def fra_value(\n",
    "    t, T_1, T_2, r_fixed, r_float, r_t, m, L, payer \n",
    "):\n",
    "    \"\"\"Returns the value of the forward rate agreement (FRA) at time t (0<t<=T_1) to the specified payer\n",
    "    \n",
    "        at time t=T_1, the function returns the present value (at time t=T_1) of the FRA's cash settlement \n",
    "        from the perspective of the specified payer\n",
    "        \n",
    "        This function assumes that the interest rates r_fixed, r_float, and r_t \n",
    "        have the same compounding frequency. \n",
    "    \n",
    "    \n",
    "    Parameters\n",
    "    ----------\n",
    "    t (in years) \n",
    "    T_1: start of forward period as observed at time t=0 (in years)\n",
    "    T_2: end of forward period as observed at time t=0 (in years)\n",
    "    r_fixed: fixed interest rate of the FRA determined at time t=0\n",
    "    r_float: floating interest rate of the FRA determined at time t\n",
    "    r_t: zero rate observed at time t with tenor T_2-t years\n",
    "    m: compounding frequency of r_1, r_2 and the forward rate \n",
    "        assumes value in this list: ['simple', 'exp', 1, 2, 4, 12, 52, 365]\n",
    "    L: notional principal amount of the FRA\n",
    "    payer: we are getting the value of the FRA from the perspective of the payer\n",
    "        assumes value in this list: ['fixed', 'float']\n",
    "    \n",
    "    Returns\n",
    "    -------\n",
    "    float (2 decimal places)\n",
    "        value of the forward rate agreement (FRA) at time t (0<t<=T_1) to the specified payer\n",
    "    \"\"\"\n",
    "        \n",
    "    if m == \"simple\":\n",
    "        value = L * (r_float - r_fixed) * (T_2 - T_1) / (1 + r_t * (T_2 - t))\n",
    "    elif m == \"exp\":\n",
    "        value = L * (np.exp(r_float * (T_2 - T_1)) - np.exp(r_fixed * (T_2 - T_1))) * np.exp(-r_t * (T_2 - t))\n",
    "    else:\n",
    "        value = L * ((1 + r_float/m) ** (m * (T_2 - T_1)) - (1 + r_fixed/m) ** (m * (T_2 - T_1))) * (1 + r_t/m) ** (-m * (T_2 - t))\n",
    "    \n",
    "    if payer == \"fixed\":\n",
    "        return value\n",
    "    else:\n",
    "        return -value"
   ]
  },
  {
   "cell_type": "markdown",
   "metadata": {},
   "source": [
    "# Part 2: Validation\n",
    "In Part 2, you will be using the functions you created in Part 1 to answer the following questions."
   ]
  },
  {
   "cell_type": "markdown",
   "metadata": {},
   "source": [
    "## Question A\n",
    "\n",
    "Given the following zero rates: 1-month: 1.75%, 3-month:2.5%, 6-month: 3.75%, 9-month: 4.25%, 1-year: 4.75%.\n",
    "\n",
    "1. If the given zero rates are simple rates, calculate the 3-month forward rate 3 months from now.\n",
    "2. If the given zero rates are compounded annually, calculate the 5-month forward rate 1 month from now.\n",
    "3. If the given zero rates are compounded semi-annually, calculate the 6-month forward rate 6 months from now.\n",
    "4. If the given zero rates are compounded monthly, calculate the 6-month forward rate 3 months from now.\n",
    "5. If the given zero rates are continuously-compounded, calculate the 3-month forward rate 6 months from now."
   ]
  },
  {
   "cell_type": "code",
   "execution_count": 4,
   "metadata": {},
   "outputs": [
    {
     "name": "stdout",
     "output_type": "stream",
     "text": [
      "1. The forward rate is 0.0497.\n",
      "2. The forward rate is 0.0415.\n",
      "3. The forward rate is 0.0575.\n",
      "4. The forward rate is 0.0513.\n",
      "5. The forward rate is 0.0525.\n"
     ]
    }
   ],
   "source": [
    "print(\"1. The forward rate is {}.\".format(round(forward_rate(0, 3/12, 6/12, 0.025, 0.0375, \"simple\"),4)))\n",
    "print(\"2. The forward rate is {}.\".format(round(forward_rate(0, 1/12, 6/12, 0.0175, 0.0375, 1),4)))\n",
    "print(\"3. The forward rate is {}.\".format(round(forward_rate(0, 6/12, 1, 0.0375, 0.0475, 2),4)))\n",
    "print(\"4. The forward rate is {}.\".format(round(forward_rate(0, 3/12, 9/12, 0.025, 0.0425, 12),4)))\n",
    "print(\"5. The forward rate is {}.\".format(round(forward_rate(0, 6/12, 9/12, 0.0375, 0.0425, \"exp\"),4)))"
   ]
  },
  {
   "cell_type": "markdown",
   "metadata": {},
   "source": [
    "## Question B\n",
    "\n",
    "Suppose that a $(3 \\times 6)$ FRA is set today with notional 15 million pesos. The 3-month rate now with continuous compounding is 2.250% and the 6-month rate with continuous compounding is 3.175%.\n",
    "\n",
    "1. Determine the fixed rate for the FRA.\n",
    "2. After 1 month, the 2-month rate is 2.125% and the 5-month rate is 3.425%, both with continuous compounding. What is the value of the FRA to the fixed-rate payer? to the floating-rate payer?\n",
    "3. Suppose the 3-month rate at expiration date of the FRA is 3.915% with continuous compounding. Which party pays the other party? How much is the settlement amount?"
   ]
  },
  {
   "cell_type": "code",
   "execution_count": 5,
   "metadata": {},
   "outputs": [
    {
     "name": "stdout",
     "output_type": "stream",
     "text": [
      "1. The fixed rate of the FRA is 0.041.\n",
      "2. The value of the FRA to the fixed-rate payer is Php -25326.48.\n",
      "2. The value of the FRA to the floating-rate payer is Php 25326.48.\n",
      "3. The fixed-rate payer pays the floating-rate payer Php 6939.1.\n"
     ]
    }
   ],
   "source": [
    "r_fixed = forward_rate(0, 3/12, 6/12, 0.0225, 0.03175, \"exp\")\n",
    "print(\"1. The fixed rate of the FRA is {}.\".format(round(r_fixed,4)))\n",
    "\n",
    "fra = fra_value(1/12, 3/12, 6/12, r_fixed, 0.03425, 0.02125, \"exp\", 15000000, \"fixed\")\n",
    "print(\"2. The value of the FRA to the fixed-rate payer is Php {}.\".format(round(fra,2)))\n",
    "print(\"2. The value of the FRA to the floating-rate payer is Php {}.\".format(round(-fra,2)))\n",
    "\n",
    "fra = fra_value(3/12, 3/12, 6/12, r_fixed, 0.03915, 0.03915, \"exp\", 15000000, \"float\")\n",
    "print(\"3. The fixed-rate payer pays the floating-rate payer Php {}.\".format(round(fra,2)))"
   ]
  },
  {
   "cell_type": "markdown",
   "metadata": {},
   "source": [
    "## Question C\n",
    "\n",
    "A $(6 \\times 12)$ FRA is set today with notional 20 million pesos. The 6-month zero rate with semi-annual compounding is 3.875% and the 1-year interest rate with semi-annual compounding is 4.125%.\n",
    "\n",
    "1. Determine the fixed rate for the FRA.\n",
    "2. After 3 months, the 3-month zero rate with quarterly compounding is 3.225% and the 9-month zero rate with quarterly compounding is 3.725%. What is the value of the FRA to the fixed-rate payer? to the floating-rate payer?\n",
    "3. Suppose the 6-month zero rate with semi-annual compounding at expiration date of the FRA is 4.425%. Which party pays the other party? How much is the settlement amount?"
   ]
  },
  {
   "cell_type": "code",
   "execution_count": 6,
   "metadata": {},
   "outputs": [
    {
     "name": "stdout",
     "output_type": "stream",
     "text": [
      "1. The fixed rate of the FRA is 0.0438.\n",
      "2. The value of the FRA to the fixed-rate payer is Php -61789.59.\n",
      "2. The value of the FRA to the floating-rate payer is Php 61789.59.\n",
      "3. The floating-rate payer pays the fixed-rate payer Php 4861.78.\n"
     ]
    }
   ],
   "source": [
    "r_fixed = forward_rate(0, 6/12, 1, 0.03875, 0.04125, 2)\n",
    "print(\"1. The fixed rate of the FRA is {}.\".format(round(r_fixed,4)))\n",
    "\n",
    "# Convert from quarterly to semi-annually\n",
    "r_float = ( (1+0.03725/4) ** ((4*9/12)/(2*9/12)) -1 ) * 2 \n",
    "r_t = ( (1+0.03225/4) ** ((4*3/12)/(2*3/12)) -1 ) * 2 \n",
    "fra = fra_value(3/12, 6/12, 1, r_fixed, r_float, r_t, 2, 20000000, \"fixed\")\n",
    "print(\"2. The value of the FRA to the fixed-rate payer is Php {}.\".format(round(fra,2)))\n",
    "print(\"2. The value of the FRA to the floating-rate payer is Php {}.\".format(round(-fra,2)))\n",
    "\n",
    "fra = fra_value(6/12, 6/12, 1, r_fixed, 0.04425, 0.04425, 2, 20000000, \"fixed\")\n",
    "print(\"3. The floating-rate payer pays the fixed-rate payer Php {}.\".format(round(fra,2)))"
   ]
  },
  {
   "cell_type": "markdown",
   "metadata": {},
   "source": [
    "## Question D\n",
    "\n",
    "A $(6 \\times 18)$ FRA with notional 5 million pesos was set 2 months ago for a fixed simple rate of 6.725%. Suppose the simple zero rates now are as follows.\n",
    "\n",
    "<table>\n",
    "    <tr>\n",
    "        <td>\n",
    "           tenor\n",
    "        </td>\n",
    "        <td>\n",
    "            1 month\n",
    "        </td>\n",
    "        <td>\n",
    "            3 months\n",
    "        </td>\n",
    "        <td>\n",
    "            6 months\n",
    "        </td>\n",
    "        <td>\n",
    "            1 year\n",
    "        </td>\n",
    "        <td>\n",
    "            2 years\n",
    "        </td>\n",
    "    </tr>\n",
    "        <tr>\n",
    "        <td>\n",
    "            interest rate\n",
    "        </td>\n",
    "        <td>\n",
    "            4.205%\n",
    "        </td>\n",
    "        <td>\n",
    "            4.515%\n",
    "        </td>\n",
    "        <td>\n",
    "            4.815%\n",
    "        </td>\n",
    "        <td>\n",
    "            6.235%\n",
    "        </td>\n",
    "        <td>\n",
    "            6.925%\n",
    "        </td>\n",
    "    </tr>\n",
    "</table>\n",
    "\n",
    "1. Use linear interpolation to estimate the 4-month and 16-month zero rates.\n",
    "2. Determine the value of the FRA now to the fixed-rate payer.\n",
    "3. After 2 months (from now), the simple zero rates are as follows. What is the value of the FRA to the floating-rate payer?\n",
    "\n",
    "<table>\n",
    "    <tr>\n",
    "        <td>\n",
    "           tenor\n",
    "        </td>\n",
    "        <td>\n",
    "            1 month\n",
    "        </td>\n",
    "        <td>\n",
    "            3 months\n",
    "        </td>\n",
    "        <td>\n",
    "            6 months\n",
    "        </td>\n",
    "        <td>\n",
    "            1 year\n",
    "        </td>\n",
    "        <td>\n",
    "            2 years\n",
    "        </td>\n",
    "    </tr>\n",
    "        <tr>\n",
    "        <td>\n",
    "            interest rate\n",
    "        </td>\n",
    "        <td>\n",
    "            4.125%\n",
    "        </td>\n",
    "        <td>\n",
    "            4.405%\n",
    "        </td>\n",
    "        <td>\n",
    "            5.015%\n",
    "        </td>\n",
    "        <td>\n",
    "            5.925%\n",
    "        </td>\n",
    "        <td>\n",
    "            6.215%\n",
    "        </td>\n",
    "    </tr>\n",
    "</table>\n",
    "\n",
    " \n",
    "4. At expiration date, the simple zero rates are as follows. Which party pays the other party? How much is the settlement amount?\n",
    "\n",
    "<table>\n",
    "    <tr>\n",
    "        <td>\n",
    "           tenor\n",
    "        </td>\n",
    "        <td>\n",
    "            1 month\n",
    "        </td>\n",
    "        <td>\n",
    "            3 months\n",
    "        </td>\n",
    "        <td>\n",
    "            6 months\n",
    "        </td>\n",
    "        <td>\n",
    "            1 year\n",
    "        </td>\n",
    "        <td>\n",
    "            2 years\n",
    "        </td>\n",
    "    </tr>\n",
    "        <tr>\n",
    "        <td>\n",
    "            interest rate\n",
    "        </td>\n",
    "        <td>\n",
    "            4.165%\n",
    "        </td>\n",
    "        <td>\n",
    "            4.455%\n",
    "        </td>\n",
    "        <td>\n",
    "            4.915%\n",
    "        </td>\n",
    "        <td>\n",
    "            6.075%\n",
    "        </td>\n",
    "        <td>\n",
    "            6.565%\n",
    "        </td>\n",
    "    </tr>\n",
    "</table>"
   ]
  },
  {
   "cell_type": "code",
   "execution_count": 7,
   "metadata": {},
   "outputs": [
    {
     "name": "stdout",
     "output_type": "stream",
     "text": [
      "1. The 4-month zero rate is 0.0462.\n",
      "1. The 16-month zero rate is 0.0646.\n",
      "2. The value of the FRA to the fixed-rate payer is Php -12246.44.\n",
      "3. The value of the FRA to the floating-rate payer is Php 35801.89.\n",
      "4. At the expiration date, the fixed-rate payer pays the floating-rate payer Php 30638.7.\n"
     ]
    }
   ],
   "source": [
    "r_float = linear_interp(16/12,[1,2],[0.06235,0.06925])\n",
    "r_t = linear_interp(4/12,[3/12,6/12],[0.04515,0.04815])\n",
    "print(\"1. The 4-month zero rate is {}.\".format(round(r_t,4)))\n",
    "print(\"1. The 16-month zero rate is {}.\".format(round(r_float,4)))\n",
    "\n",
    "r_fixed = 0.06725\n",
    "fra = fra_value(2/12, 6/12, 18/12, r_fixed, r_float, r_t, \"simple\", 5000000, \"fixed\")\n",
    "print(\"2. The value of the FRA to the fixed-rate payer is Php {}.\".format(round(fra,2)))\n",
    "\n",
    "r_float = linear_interp(14/12,[1,2],[0.05925,0.06215])\n",
    "r_t = linear_interp(2/12,[1/12,3/12],[0.04125,0.04405])\n",
    "fra = fra_value(4/12, 6/12, 18/12, r_fixed, r_float, r_t, \"simple\", 5000000, \"float\")\n",
    "print(\"3. The value of the FRA to the floating-rate payer is Php {}.\".format(round(fra,2)))\n",
    "\n",
    "r_float = 0.06075\n",
    "r_t = 0.06075\n",
    "fra = fra_value(6/12, 6/12, 18/12, r_fixed, r_float, r_t, \"simple\", 5000000, \"float\")\n",
    "print(\"4. At the expiration date, the fixed-rate payer pays the floating-rate payer Php {}.\".format(round(fra,2)))"
   ]
  }
 ],
 "metadata": {
  "kernelspec": {
   "display_name": "Python 3",
   "language": "python",
   "name": "python3"
  },
  "language_info": {
   "codemirror_mode": {
    "name": "ipython",
    "version": 3
   },
   "file_extension": ".py",
   "mimetype": "text/x-python",
   "name": "python",
   "nbconvert_exporter": "python",
   "pygments_lexer": "ipython3",
   "version": "3.8.5"
  }
 },
 "nbformat": 4,
 "nbformat_minor": 4
}
